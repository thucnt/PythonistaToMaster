{
 "cells": [
  {
   "cell_type": "code",
   "execution_count": null,
   "id": "6a6bee61-9883-4ed1-bceb-6c06232d4b6b",
   "metadata": {},
   "outputs": [],
   "source": []
  }
 ],
 "metadata": {
  "kernelspec": {
   "display_name": "",
   "name": ""
  },
  "language_info": {
   "name": ""
  }
 },
 "nbformat": 4,
 "nbformat_minor": 5
}
