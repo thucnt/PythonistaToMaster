{
 "cells": [
  {
   "cell_type": "code",
   "execution_count": 1,
   "id": "560181ae-7030-4b9d-9d01-8cca05589e62",
   "metadata": {},
   "outputs": [],
   "source": [
    "import petl as etl\n",
    "import pprint"
   ]
  },
  {
   "cell_type": "code",
   "execution_count": 6,
   "id": "bc6da4f1-0793-4e14-91b8-6290516c698b",
   "metadata": {},
   "outputs": [],
   "source": [
    "movies_data = etl.fromjson('./datasets/movie_details.json', header=[ 'crawled_at', 'title', 'url', 'director'])"
   ]
  },
  {
   "cell_type": "code",
   "execution_count": 22,
   "id": "33405499-75c8-4047-988b-25e55ab1cd3d",
   "metadata": {},
   "outputs": [
    {
     "data": {
      "text/html": [
       "<table class='petl'>\n",
       "<thead>\n",
       "<tr>\n",
       "<th>crawled_at</th>\n",
       "<th>title</th>\n",
       "<th>url</th>\n",
       "<th>director</th>\n",
       "</tr>\n",
       "</thead>\n",
       "<tbody>\n",
       "<tr>\n",
       "<td>08/15/2021, 16:33:15</td>\n",
       "<td>House of Gucci</td>\n",
       "<td>https://www.imdb.com/title/tt11214590/?ref_=adv_li_tt</td>\n",
       "<td>Ridley Scott</td>\n",
       "</tr>\n",
       "<tr>\n",
       "<td>08/15/2021, 16:33:15</td>\n",
       "<td>Val</td>\n",
       "<td>https://www.imdb.com/title/tt14731254/?ref_=adv_li_tt</td>\n",
       "<td>Ting Poo | Leo Scott</td>\n",
       "</tr>\n",
       "<tr>\n",
       "<td>08/15/2021, 16:33:15</td>\n",
       "<td>King Richard</td>\n",
       "<td>https://www.imdb.com/title/tt9620288/?ref_=adv_li_tt</td>\n",
       "<td>Reinaldo Marcus Green</td>\n",
       "</tr>\n",
       "<tr>\n",
       "<td>08/15/2021, 16:33:15</td>\n",
       "<td>The Suicide Squad</td>\n",
       "<td>https://www.imdb.com/title/tt6334354/?ref_=adv_li_tt</td>\n",
       "<td>James Gunn</td>\n",
       "</tr>\n",
       "<tr>\n",
       "<td>08/15/2021, 16:33:15</td>\n",
       "<td>Wonder Woman 1984</td>\n",
       "<td>https://www.imdb.com/title/tt7126948/?ref_=adv_li_tt</td>\n",
       "<td>Patty Jenkins</td>\n",
       "</tr>\n",
       "</tbody>\n",
       "</table>\n",
       "<p><strong>...</strong></p>"
      ]
     },
     "metadata": {},
     "output_type": "display_data"
    }
   ],
   "source": [
    "movies_data.display()"
   ]
  },
  {
   "cell_type": "code",
   "execution_count": 11,
   "id": "12aa7e80-2f2d-4ac5-8d1d-9496fb120baa",
   "metadata": {},
   "outputs": [],
   "source": [
    "lookup_title = etl.dictlookup(movies_data, 'title')"
   ]
  },
  {
   "cell_type": "code",
   "execution_count": 12,
   "id": "16d6de23-e882-4e4c-8db3-c34e9d5ecf7c",
   "metadata": {},
   "outputs": [
    {
     "data": {
      "text/plain": [
       "[{'crawled_at': '08/15/2021, 16:33:15',\n",
       "  'title': 'Val',\n",
       "  'url': 'https://www.imdb.com/title/tt14731254/?ref_=adv_li_tt',\n",
       "  'director': 'Ting Poo | Leo Scott'}]"
      ]
     },
     "execution_count": 12,
     "metadata": {},
     "output_type": "execute_result"
    }
   ],
   "source": [
    "lookup_title['Val']"
   ]
  },
  {
   "cell_type": "code",
   "execution_count": 13,
   "id": "bc4e80c3-8c72-4845-87e8-87a15bca0d27",
   "metadata": {},
   "outputs": [],
   "source": [
    "movies_info = [\n",
    "    {'title': 'Miss Jerry', 'year': 1894, 'genre': 'romance'},\n",
    "    {'title': 'Cleopatra', 'year': 1912, 'genre': 'drama, history'},\n",
    "    {'title': 'Richard III', 'year': 1912, 'genre': 'drama'},\n",
    "    {'title': 'The Bargain', 'year': 1914, 'genre': 'western'},\n",
    "    {'title': 'Hypocrites', 'year': 1915, 'genre': 'drama'}\n",
    "]"
   ]
  },
  {
   "cell_type": "code",
   "execution_count": 14,
   "id": "e54015bf-cde4-4205-b369-8de57637cc1f",
   "metadata": {},
   "outputs": [],
   "source": [
    "movies_info_table = etl.fromdicts(movies_info, header=['title', 'year', 'genre'])"
   ]
  },
  {
   "cell_type": "code",
   "execution_count": 15,
   "id": "f2cb185a-5056-45b1-a48f-67a5bc278f80",
   "metadata": {},
   "outputs": [
    {
     "data": {
      "text/html": [
       "<table class='petl'>\n",
       "<thead>\n",
       "<tr>\n",
       "<th>title</th>\n",
       "<th>year</th>\n",
       "<th>genre</th>\n",
       "</tr>\n",
       "</thead>\n",
       "<tbody>\n",
       "<tr>\n",
       "<td>Miss Jerry</td>\n",
       "<td style='text-align: right'>1894</td>\n",
       "<td>romance</td>\n",
       "</tr>\n",
       "<tr>\n",
       "<td>Cleopatra</td>\n",
       "<td style='text-align: right'>1912</td>\n",
       "<td>drama, history</td>\n",
       "</tr>\n",
       "<tr>\n",
       "<td>Richard III</td>\n",
       "<td style='text-align: right'>1912</td>\n",
       "<td>drama</td>\n",
       "</tr>\n",
       "<tr>\n",
       "<td>The Bargain</td>\n",
       "<td style='text-align: right'>1914</td>\n",
       "<td>western</td>\n",
       "</tr>\n",
       "<tr>\n",
       "<td>Hypocrites</td>\n",
       "<td style='text-align: right'>1915</td>\n",
       "<td>drama</td>\n",
       "</tr>\n",
       "</tbody>\n",
       "</table>\n"
      ]
     },
     "metadata": {},
     "output_type": "display_data"
    }
   ],
   "source": [
    "movies_info_table.displayall()"
   ]
  },
  {
   "cell_type": "code",
   "execution_count": 16,
   "id": "d05c004a-a069-4e1a-91d6-5708a0796b9c",
   "metadata": {},
   "outputs": [],
   "source": [
    "movies = [\n",
    "    ['Title', 'Genre'],\n",
    "    ['Maciste', 'Adventure'],\n",
    "    ['Intolerance', 'History'],\n",
    "    ['Straight Shooting', 'Western'],\n",
    "    ['Tom Sawyer', 'Adventure'],\n",
    "    ['The Unbeliever', 'Drama']\n",
    "]"
   ]
  },
  {
   "cell_type": "code",
   "execution_count": 17,
   "id": "106e5b84-3b0f-4eda-b5d5-60a823c45828",
   "metadata": {},
   "outputs": [],
   "source": [
    "etl.tojson(movies, './datasets/movies_info.json', sort_keys=True)"
   ]
  },
  {
   "cell_type": "code",
   "execution_count": 18,
   "id": "af3b3049-1866-41da-8eef-ced9a37ddddc",
   "metadata": {},
   "outputs": [
    {
     "name": "stdout",
     "output_type": "stream",
     "text": [
      "('[{\"Genre\": \"Adventure\", \"Title\": \"Maciste\"}, {\"Genre\": \"History\", \"Title\": '\n",
      " '\"Intolerance\"}, {\"Genre\": \"Western\", \"Title\": \"Straight Shooting\"}, '\n",
      " '{\"Genre\": \"Adventure\", \"Title\": \"Tom Sawyer\"}, {\"Genre\": \"Drama\", \"Title\": '\n",
      " '\"The Unbeliever\"}]')\n"
     ]
    }
   ],
   "source": [
    "pprint.pprint(open('./datasets/movies_info.json').read())"
   ]
  },
  {
   "cell_type": "code",
   "execution_count": 19,
   "id": "562aed84-9e2c-4264-a9a8-a89523cec73c",
   "metadata": {},
   "outputs": [
    {
     "name": "stdout",
     "output_type": "stream",
     "text": [
      "[{\"Genre\": \"Adventure\", \"Title\": \"Maciste\"}, {\"Genre\": \"History\", \"Title\": \"Intolerance\"}, {\"Genre\": \"Western\", \"Title\": \"Straight Shooting\"}, {\"Genre\": \"Adventure\", \"Title\": \"Tom Sawyer\"}, {\"Genre\": \"Drama\", \"Title\": \"The Unbeliever\"}]\n"
     ]
    }
   ],
   "source": [
    "print(open('./datasets/movies_info.json').read())"
   ]
  },
  {
   "cell_type": "code",
   "execution_count": 20,
   "id": "9e301efd-f78d-4baf-b52f-6b0edeeb44d2",
   "metadata": {},
   "outputs": [],
   "source": [
    "etl.tojsonarrays(movies, './datasets/movies_arrays.json')"
   ]
  },
  {
   "cell_type": "code",
   "execution_count": 21,
   "id": "f760575b-c497-423d-96d7-1a85dce565af",
   "metadata": {},
   "outputs": [
    {
     "name": "stdout",
     "output_type": "stream",
     "text": [
      "('[[\"Maciste\", \"Adventure\"], [\"Intolerance\", \"History\"], [\"Straight Shooting\", '\n",
      " '\"Western\"], [\"Tom Sawyer\", \"Adventure\"], [\"The Unbeliever\", \"Drama\"]]')\n"
     ]
    }
   ],
   "source": [
    "pprint.pprint(open('./datasets/movies_arrays.json').read())"
   ]
  },
  {
   "cell_type": "code",
   "execution_count": 23,
   "id": "ac75f2cd-30f8-4fc5-ad80-f4afa188e9b1",
   "metadata": {},
   "outputs": [],
   "source": [
    "lookup_director_one = etl.dictlookupone(movies_data, 'director')"
   ]
  },
  {
   "cell_type": "code",
   "execution_count": 24,
   "id": "4d495b01-9d1f-4842-a726-786e0d1fc0ed",
   "metadata": {},
   "outputs": [
    {
     "data": {
      "text/plain": [
       "{'crawled_at': '08/15/2021, 16:33:15',\n",
       " 'title': 'The Suicide Squad',\n",
       " 'url': 'https://www.imdb.com/title/tt6334354/?ref_=adv_li_tt',\n",
       " 'director': 'James Gunn'}"
      ]
     },
     "execution_count": 24,
     "metadata": {},
     "output_type": "execute_result"
    }
   ],
   "source": [
    "lookup_director_one['James Gunn']"
   ]
  },
  {
   "cell_type": "code",
   "execution_count": 25,
   "id": "d07ca3ac-a4da-4a04-bfc6-72bfae57f446",
   "metadata": {},
   "outputs": [],
   "source": [
    "import shelve"
   ]
  },
  {
   "cell_type": "code",
   "execution_count": 26,
   "id": "5c30f3c2-e7bd-4967-8153-74eda2fab4bc",
   "metadata": {},
   "outputs": [],
   "source": [
    "dat_file = shelve.open('./datasets/movies.dat', flag='n')"
   ]
  },
  {
   "cell_type": "code",
   "execution_count": 28,
   "id": "ecdbe68d-29b9-41cc-9f15-68d554a2ae51",
   "metadata": {},
   "outputs": [
    {
     "data": {
      "text/plain": [
       "[{'crawled_at': '08/15/2021, 16:33:15',\n",
       "  'title': 'The Suicide Squad',\n",
       "  'url': 'https://www.imdb.com/title/tt6334354/?ref_=adv_li_tt',\n",
       "  'director': 'James Gunn'}]"
      ]
     },
     "execution_count": 28,
     "metadata": {},
     "output_type": "execute_result"
    }
   ],
   "source": [
    "dat_file = etl.dictlookup(movies_data, 'title', dat_file)\n",
    "dat_file['The Suicide Squad']"
   ]
  },
  {
   "cell_type": "code",
   "execution_count": 29,
   "id": "d247e4de-a5ee-4e67-8896-7f30af5ccf3a",
   "metadata": {},
   "outputs": [],
   "source": [
    "dat_file.close()"
   ]
  },
  {
   "cell_type": "code",
   "execution_count": 30,
   "id": "01e3ac28-da77-43ea-8df6-2847c7df226e",
   "metadata": {},
   "outputs": [],
   "source": [
    "dat_file = shelve.open('./datasets/movies.dat', flag='r')"
   ]
  },
  {
   "cell_type": "code",
   "execution_count": 31,
   "id": "f58b1fd7-3e9e-42ef-8514-e1c06d04fd88",
   "metadata": {},
   "outputs": [
    {
     "data": {
      "text/plain": [
       "[{'crawled_at': '08/15/2021, 16:33:15',\n",
       "  'title': 'The Suicide Squad',\n",
       "  'url': 'https://www.imdb.com/title/tt6334354/?ref_=adv_li_tt',\n",
       "  'director': 'James Gunn'}]"
      ]
     },
     "execution_count": 31,
     "metadata": {},
     "output_type": "execute_result"
    }
   ],
   "source": [
    "dat_file['The Suicide Squad']"
   ]
  },
  {
   "cell_type": "code",
   "execution_count": null,
   "id": "0634861b-7c03-49ee-8e78-1159bb28bd6c",
   "metadata": {},
   "outputs": [],
   "source": []
  }
 ],
 "metadata": {
  "kernelspec": {
   "display_name": "Python 3 (ipykernel)",
   "language": "python",
   "name": "python3"
  },
  "language_info": {
   "codemirror_mode": {
    "name": "ipython",
    "version": 3
   },
   "file_extension": ".py",
   "mimetype": "text/x-python",
   "name": "python",
   "nbconvert_exporter": "python",
   "pygments_lexer": "ipython3",
   "version": "3.12.7"
  }
 },
 "nbformat": 4,
 "nbformat_minor": 5
}
