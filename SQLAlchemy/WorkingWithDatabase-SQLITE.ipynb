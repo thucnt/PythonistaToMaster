{
 "cells": [
  {
   "cell_type": "code",
   "execution_count": 3,
   "id": "e5cf11d0-6040-4e88-9981-fca219052010",
   "metadata": {},
   "outputs": [],
   "source": [
    "import petl as etl\n",
    "import sqlite3\n",
    "\n",
    "from petl import appenddb"
   ]
  },
  {
   "cell_type": "code",
   "execution_count": 4,
   "id": "12d9cce8-5a15-4cbd-860c-3ea5ac4e75ea",
   "metadata": {},
   "outputs": [],
   "source": [
    "connection = sqlite3.connect('datasets/index.db')"
   ]
  },
  {
   "cell_type": "code",
   "execution_count": 5,
   "id": "354dbdec-916d-4346-8283-bb83bf1bd25a",
   "metadata": {},
   "outputs": [],
   "source": [
    "index_data = etl.fromdb(connection, 'SELECT * FROM NYSE')"
   ]
  },
  {
   "cell_type": "code",
   "execution_count": 7,
   "id": "8b8cec33-4916-46c9-95cf-d4bbf47f577b",
   "metadata": {},
   "outputs": [
    {
     "data": {
      "text/html": [
       "<table class='petl'>\n",
       "<thead>\n",
       "<tr>\n",
       "<th>Date</th>\n",
       "<th>Open</th>\n",
       "<th>High</th>\n",
       "<th>Low</th>\n",
       "<th>Close</th>\n",
       "<th>AdjClose</th>\n",
       "<th>Volume</th>\n",
       "</tr>\n",
       "</thead>\n",
       "<tbody>\n",
       "</tbody>\n",
       "</table>\n"
      ]
     },
     "metadata": {},
     "output_type": "display_data"
    }
   ],
   "source": [
    "index_data.display()"
   ]
  },
  {
   "cell_type": "code",
   "execution_count": null,
   "id": "a3093110-4821-4720-a776-5a573578e7f9",
   "metadata": {},
   "outputs": [],
   "source": []
  }
 ],
 "metadata": {
  "kernelspec": {
   "display_name": "Python 3 (ipykernel)",
   "language": "python",
   "name": "python3"
  },
  "language_info": {
   "codemirror_mode": {
    "name": "ipython",
    "version": 3
   },
   "file_extension": ".py",
   "mimetype": "text/x-python",
   "name": "python",
   "nbconvert_exporter": "python",
   "pygments_lexer": "ipython3",
   "version": "3.12.7"
  }
 },
 "nbformat": 4,
 "nbformat_minor": 5
}
