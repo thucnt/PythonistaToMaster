{
 "cells": [
  {
   "cell_type": "code",
   "execution_count": 1,
   "id": "2d477f13-d862-4e0e-a737-d928a54b7a35",
   "metadata": {},
   "outputs": [],
   "source": [
    "import petl as etl"
   ]
  },
  {
   "cell_type": "code",
   "execution_count": 2,
   "id": "6aa47348-fbb0-4b63-982f-a7e49b431cce",
   "metadata": {},
   "outputs": [
    {
     "data": {
      "text/plain": [
       "'1.7.15'"
      ]
     },
     "execution_count": 2,
     "metadata": {},
     "output_type": "execute_result"
    }
   ],
   "source": [
    "etl.__version__"
   ]
  },
  {
   "cell_type": "code",
   "execution_count": 3,
   "id": "213d7d2b-e93f-426e-b28b-4f7565ca5da3",
   "metadata": {},
   "outputs": [
    {
     "name": "stdout",
     "output_type": "stream",
     "text": [
      "Help on package petl:\n",
      "\n",
      "NAME\n",
      "    petl\n",
      "\n",
      "PACKAGE CONTENTS\n",
      "    comparison\n",
      "    compat\n",
      "    config\n",
      "    errors\n",
      "    io (package)\n",
      "    test (package)\n",
      "    transform (package)\n",
      "    util (package)\n",
      "    version\n",
      "\n",
      "SUBMODULES\n",
      "    avro\n",
      "    base\n",
      "    basics\n",
      "    bcolz\n",
      "    conversions\n",
      "    counting\n",
      "    csv\n",
      "    csv_py3\n",
      "    db\n",
      "    db_create\n",
      "    db_utils\n",
      "    dedup\n",
      "    fills\n",
      "    gsheet\n",
      "    hashjoins\n",
      "    headers\n",
      "    html\n",
      "    intervals\n",
      "    joins\n",
      "    json\n",
      "    lookups\n",
      "    maps\n",
      "    materialise\n",
      "    misc\n",
      "    numpy\n",
      "    pandas\n",
      "    parsers\n",
      "    pickle\n",
      "    pytables\n",
      "    random\n",
      "    reductions\n",
      "    regex\n",
      "    remotes\n",
      "    reshape\n",
      "    selects\n",
      "    setops\n",
      "    sorts\n",
      "    sources\n",
      "    statistics\n",
      "    text\n",
      "    timing\n",
      "    unpacks\n",
      "    validation\n",
      "    vis\n",
      "    whoosh\n",
      "    xls\n",
      "    xlsx\n",
      "    xml\n",
      "\n",
      "VERSION\n",
      "    1.7.15\n",
      "\n",
      "FILE\n",
      "    c:\\users\\thuc.nguyen1\\appdata\\local\\programs\\python\\python312\\lib\\site-packages\\petl\\__init__.py\n",
      "\n",
      "\n"
     ]
    }
   ],
   "source": [
    "help(etl)"
   ]
  },
  {
   "cell_type": "code",
   "execution_count": 4,
   "id": "8f7275b0-dc09-4259-849d-d183636ddeaf",
   "metadata": {},
   "outputs": [],
   "source": [
    "fruit_qty = [\n",
    "    ['apple', 'orange', 'mango'],\n",
    "    [23, 56, 34]\n",
    "]"
   ]
  },
  {
   "cell_type": "code",
   "execution_count": 5,
   "id": "65e1743f-4631-4f3e-a63e-104461d5591c",
   "metadata": {},
   "outputs": [],
   "source": [
    "fruits = etl.fromcolumns(fruit_qty)"
   ]
  },
  {
   "cell_type": "code",
   "execution_count": 6,
   "id": "3a561630-a242-496c-878c-f462fd69f0df",
   "metadata": {},
   "outputs": [
    {
     "data": {
      "text/html": [
       "<table class='petl'>\n",
       "<thead>\n",
       "<tr>\n",
       "<th>f0</th>\n",
       "<th>f1</th>\n",
       "</tr>\n",
       "</thead>\n",
       "<tbody>\n",
       "<tr>\n",
       "<td>apple</td>\n",
       "<td style='text-align: right'>23</td>\n",
       "</tr>\n",
       "<tr>\n",
       "<td>orange</td>\n",
       "<td style='text-align: right'>56</td>\n",
       "</tr>\n",
       "<tr>\n",
       "<td>mango</td>\n",
       "<td style='text-align: right'>34</td>\n",
       "</tr>\n",
       "</tbody>\n",
       "</table>\n"
      ],
      "text/plain": [
       "+----------+----+\n",
       "| f0       | f1 |\n",
       "+==========+====+\n",
       "| 'apple'  | 23 |\n",
       "+----------+----+\n",
       "| 'orange' | 56 |\n",
       "+----------+----+\n",
       "| 'mango'  | 34 |\n",
       "+----------+----+"
      ]
     },
     "execution_count": 6,
     "metadata": {},
     "output_type": "execute_result"
    }
   ],
   "source": [
    "fruits"
   ]
  },
  {
   "cell_type": "code",
   "execution_count": 7,
   "id": "efacac97-68dc-4265-9ce5-5c22ea54e4e0",
   "metadata": {},
   "outputs": [],
   "source": [
    "fruit_qty = [\n",
    "    ['apple', 'orange', 'mango', 'grapes'],\n",
    "    [23, 56, 34]\n",
    "]"
   ]
  },
  {
   "cell_type": "code",
   "execution_count": 8,
   "id": "ae05a78e-a094-4fe9-ab2d-275f91996656",
   "metadata": {},
   "outputs": [],
   "source": [
    "fruits = etl.fromcolumns(fruit_qty, header=['fruits', 'quantity'])"
   ]
  },
  {
   "cell_type": "code",
   "execution_count": 9,
   "id": "518d0b26-2f93-4316-9330-87816fa770ca",
   "metadata": {},
   "outputs": [
    {
     "data": {
      "text/html": [
       "<table class='petl'>\n",
       "<thead>\n",
       "<tr>\n",
       "<th>fruits</th>\n",
       "<th>quantity</th>\n",
       "</tr>\n",
       "</thead>\n",
       "<tbody>\n",
       "<tr>\n",
       "<td>apple</td>\n",
       "<td style='text-align: right'>23</td>\n",
       "</tr>\n",
       "<tr>\n",
       "<td>orange</td>\n",
       "<td style='text-align: right'>56</td>\n",
       "</tr>\n",
       "<tr>\n",
       "<td>mango</td>\n",
       "<td style='text-align: right'>34</td>\n",
       "</tr>\n",
       "<tr>\n",
       "<td>grapes</td>\n",
       "<td>None</td>\n",
       "</tr>\n",
       "</tbody>\n",
       "</table>\n"
      ],
      "text/plain": [
       "+----------+----------+\n",
       "| fruits   | quantity |\n",
       "+==========+==========+\n",
       "| 'apple'  |       23 |\n",
       "+----------+----------+\n",
       "| 'orange' |       56 |\n",
       "+----------+----------+\n",
       "| 'mango'  |       34 |\n",
       "+----------+----------+\n",
       "| 'grapes' | None     |\n",
       "+----------+----------+"
      ]
     },
     "execution_count": 9,
     "metadata": {},
     "output_type": "execute_result"
    }
   ],
   "source": [
    "fruits"
   ]
  },
  {
   "cell_type": "code",
   "execution_count": 10,
   "id": "63951ead-b863-4967-a9bd-fba98089b32e",
   "metadata": {},
   "outputs": [
    {
     "data": {
      "text/html": [
       "<table class='petl'>\n",
       "<thead>\n",
       "<tr>\n",
       "<th>fruits</th>\n",
       "<th>quantity</th>\n",
       "</tr>\n",
       "</thead>\n",
       "<tbody>\n",
       "<tr>\n",
       "<td>apple</td>\n",
       "<td style='text-align: right'>23</td>\n",
       "</tr>\n",
       "<tr>\n",
       "<td>orange</td>\n",
       "<td style='text-align: right'>56</td>\n",
       "</tr>\n",
       "<tr>\n",
       "<td>mango</td>\n",
       "<td style='text-align: right'>34</td>\n",
       "</tr>\n",
       "<tr>\n",
       "<td>grapes</td>\n",
       "<td>-</td>\n",
       "</tr>\n",
       "</tbody>\n",
       "</table>\n"
      ],
      "text/plain": [
       "+----------+----------+\n",
       "| fruits   | quantity |\n",
       "+==========+==========+\n",
       "| 'apple'  |       23 |\n",
       "+----------+----------+\n",
       "| 'orange' |       56 |\n",
       "+----------+----------+\n",
       "| 'mango'  |       34 |\n",
       "+----------+----------+\n",
       "| 'grapes' | '-'      |\n",
       "+----------+----------+"
      ]
     },
     "execution_count": 10,
     "metadata": {},
     "output_type": "execute_result"
    }
   ],
   "source": [
    "fruits = etl.fromcolumns(fruit_qty, header=['fruits', 'quantity'], missing='-')\n",
    "fruits"
   ]
  },
  {
   "cell_type": "code",
   "execution_count": 11,
   "id": "86e678a4-6909-4b3e-89fc-1167df5acd93",
   "metadata": {},
   "outputs": [
    {
     "data": {
      "text/plain": [
       "petl.io.base.ColumnsView"
      ]
     },
     "execution_count": 11,
     "metadata": {},
     "output_type": "execute_result"
    }
   ],
   "source": [
    "type(fruits)"
   ]
  },
  {
   "cell_type": "code",
   "execution_count": 12,
   "id": "2d46cb52-8823-465e-876f-0280d379af9f",
   "metadata": {},
   "outputs": [],
   "source": [
    "data2020 = etl.io.csv.fromcsv('./datasets/GSPC_2020.csv')"
   ]
  },
  {
   "cell_type": "code",
   "execution_count": 13,
   "id": "aa279bda-1e40-4a4e-a346-4d6e760827e4",
   "metadata": {},
   "outputs": [
    {
     "data": {
      "text/html": [
       "<table class='petl'>\n",
       "<thead>\n",
       "<tr>\n",
       "<th>Date</th>\n",
       "<th>Open</th>\n",
       "<th>High</th>\n",
       "<th>Low</th>\n",
       "<th>Close</th>\n",
       "</tr>\n",
       "</thead>\n",
       "<tbody>\n",
       "<tr>\n",
       "<td>12/31/2020</td>\n",
       "<td>3,733.27</td>\n",
       "<td>3,760.20</td>\n",
       "<td>3,726.88</td>\n",
       "<td>3,756.07</td>\n",
       "</tr>\n",
       "<tr>\n",
       "<td>12/30/2020</td>\n",
       "<td>3,736.19</td>\n",
       "<td>3,744.63</td>\n",
       "<td>3,730.21</td>\n",
       "<td>3,732.04</td>\n",
       "</tr>\n",
       "<tr>\n",
       "<td>12/29/2020</td>\n",
       "<td>3,750.01</td>\n",
       "<td>3,756.12</td>\n",
       "<td>3,723.31</td>\n",
       "<td>3,727.04</td>\n",
       "</tr>\n",
       "<tr>\n",
       "<td>12/28/2020</td>\n",
       "<td>3,723.03</td>\n",
       "<td>3,740.51</td>\n",
       "<td>3,723.03</td>\n",
       "<td>3,735.36</td>\n",
       "</tr>\n",
       "<tr>\n",
       "<td>12/24/2020</td>\n",
       "<td>3,694.03</td>\n",
       "<td>3,703.82</td>\n",
       "<td>3,689.32</td>\n",
       "<td>3,703.06</td>\n",
       "</tr>\n",
       "</tbody>\n",
       "</table>\n",
       "<p><strong>...</strong></p>"
      ]
     },
     "metadata": {},
     "output_type": "display_data"
    }
   ],
   "source": [
    "data2020.display()"
   ]
  },
  {
   "cell_type": "code",
   "execution_count": null,
   "id": "f26d302c-4bb2-436d-a283-670fd6739d0e",
   "metadata": {},
   "outputs": [],
   "source": []
  }
 ],
 "metadata": {
  "kernelspec": {
   "display_name": "Python 3 (ipykernel)",
   "language": "python",
   "name": "python3"
  },
  "language_info": {
   "codemirror_mode": {
    "name": "ipython",
    "version": 3
   },
   "file_extension": ".py",
   "mimetype": "text/x-python",
   "name": "python",
   "nbconvert_exporter": "python",
   "pygments_lexer": "ipython3",
   "version": "3.12.7"
  }
 },
 "nbformat": 4,
 "nbformat_minor": 5
}
