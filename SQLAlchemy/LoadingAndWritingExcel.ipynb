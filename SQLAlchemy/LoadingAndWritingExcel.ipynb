{
 "cells": [
  {
   "cell_type": "code",
   "execution_count": 1,
   "id": "1bf76da5-8713-4bb8-902c-05f1bec778d3",
   "metadata": {},
   "outputs": [],
   "source": [
    "import petl as etl\n",
    "from petl import xlsx\n",
    "import openpyxl"
   ]
  },
  {
   "cell_type": "code",
   "execution_count": 5,
   "id": "39629dc2-f441-42c0-9a8e-4a677d79ea37",
   "metadata": {},
   "outputs": [],
   "source": [
    "data = etl.fromxlsx('./datasets/public_use-industry-employment-growth.xlsx', sheet='Growth from Industry Transition')"
   ]
  },
  {
   "cell_type": "code",
   "execution_count": 6,
   "id": "b01dd1a2-2600-430b-8c68-168931b9744c",
   "metadata": {},
   "outputs": [
    {
     "data": {
      "text/html": [
       "<table class='petl'>\n",
       "<thead>\n",
       "<tr>\n",
       "<th>country_code</th>\n",
       "<th>country_name</th>\n",
       "<th>wb_region</th>\n",
       "<th>wb_income</th>\n",
       "<th>isic_section_index</th>\n",
       "<th>isic_section_name</th>\n",
       "<th>industry_id</th>\n",
       "<th>industry_name</th>\n",
       "<th>growth_rate_2015</th>\n",
       "<th>growth_rate_2016</th>\n",
       "<th>growth_rate_2017</th>\n",
       "<th>growth_rate_2018</th>\n",
       "<th>growth_rate_2019</th>\n",
       "</tr>\n",
       "</thead>\n",
       "<tbody>\n",
       "<tr>\n",
       "<td>ae</td>\n",
       "<td>United Arab Emirates</td>\n",
       "<td>Middle East & North Africa</td>\n",
       "<td>High income</td>\n",
       "<td>B</td>\n",
       "<td>Mining and quarrying</td>\n",
       "<td style='text-align: right'>56</td>\n",
       "<td>Mining & Metals</td>\n",
       "<td style='text-align: right'>0.078</td>\n",
       "<td style='text-align: right'>0.0585495675316034</td>\n",
       "<td style='text-align: right'>0.04340239912759</td>\n",
       "<td style='text-align: right'>0.0100481473728282</td>\n",
       "<td style='text-align: right'>-0.000621375310687621</td>\n",
       "</tr>\n",
       "<tr>\n",
       "<td>ae</td>\n",
       "<td>United Arab Emirates</td>\n",
       "<td>Middle East & North Africa</td>\n",
       "<td>High income</td>\n",
       "<td>B</td>\n",
       "<td>Mining and quarrying</td>\n",
       "<td style='text-align: right'>57</td>\n",
       "<td>Oil & Energy</td>\n",
       "<td style='text-align: right'>0.0330148256063074</td>\n",
       "<td style='text-align: right'>0.013478553881606</td>\n",
       "<td style='text-align: right'>0.0174590734935562</td>\n",
       "<td style='text-align: right'>0.0185141585154426</td>\n",
       "<td style='text-align: right'>0.0226059392726059</td>\n",
       "</tr>\n",
       "<tr>\n",
       "<td>ae</td>\n",
       "<td>United Arab Emirates</td>\n",
       "<td>Middle East & North Africa</td>\n",
       "<td>High income</td>\n",
       "<td>C</td>\n",
       "<td>Manufacturing</td>\n",
       "<td style='text-align: right'>15</td>\n",
       "<td>Pharmaceuticals</td>\n",
       "<td style='text-align: right'>0.171366594360086</td>\n",
       "<td style='text-align: right'>0.136986301369863</td>\n",
       "<td style='text-align: right'>0.0906305434607321</td>\n",
       "<td style='text-align: right'>0.048148148148148</td>\n",
       "<td style='text-align: right'>0.0284233900814212</td>\n",
       "</tr>\n",
       "<tr>\n",
       "<td>ae</td>\n",
       "<td>United Arab Emirates</td>\n",
       "<td>Middle East & North Africa</td>\n",
       "<td>High income</td>\n",
       "<td>C</td>\n",
       "<td>Manufacturing</td>\n",
       "<td style='text-align: right'>23</td>\n",
       "<td>Food Production</td>\n",
       "<td style='text-align: right'>0.0633512828634779</td>\n",
       "<td style='text-align: right'>0.038647342995169</td>\n",
       "<td style='text-align: right'>0.0221366698748797</td>\n",
       "<td style='text-align: right'>0.00598991172761653</td>\n",
       "<td style='text-align: right'>0.00431699044094968</td>\n",
       "</tr>\n",
       "<tr>\n",
       "<td>ae</td>\n",
       "<td>United Arab Emirates</td>\n",
       "<td>Middle East & North Africa</td>\n",
       "<td>High income</td>\n",
       "<td>C</td>\n",
       "<td>Manufacturing</td>\n",
       "<td style='text-align: right'>52</td>\n",
       "<td>Aviation & Aerospace</td>\n",
       "<td style='text-align: right'>0.0966074313408724</td>\n",
       "<td style='text-align: right'>0.0567441860465116</td>\n",
       "<td style='text-align: right'>0.0286727756429205</td>\n",
       "<td style='text-align: right'>0.0150482680295287</td>\n",
       "<td style='text-align: right'>0.000816104461371036</td>\n",
       "</tr>\n",
       "</tbody>\n",
       "</table>\n"
      ],
      "text/plain": [
       "+--------------+------------------------+------------------------------+---------------+--------------------+------------------------+-------------+------------------------+--------------------+--------------------+--------------------+---------------------+-----------------------+\n",
       "| country_code | country_name           | wb_region                    | wb_income     | isic_section_index | isic_section_name      | industry_id | industry_name          | growth_rate_2015   | growth_rate_2016   | growth_rate_2017   | growth_rate_2018    | growth_rate_2019      |\n",
       "+==============+========================+==============================+===============+====================+========================+=============+========================+====================+====================+====================+=====================+=======================+\n",
       "| 'ae'         | 'United Arab Emirates' | 'Middle East & North Africa' | 'High income' | 'B'                | 'Mining and quarrying' |          56 | 'Mining & Metals'      |              0.078 | 0.0585495675316034 |   0.04340239912759 |  0.0100481473728282 | -0.000621375310687621 |\n",
       "+--------------+------------------------+------------------------------+---------------+--------------------+------------------------+-------------+------------------------+--------------------+--------------------+--------------------+---------------------+-----------------------+\n",
       "| 'ae'         | 'United Arab Emirates' | 'Middle East & North Africa' | 'High income' | 'B'                | 'Mining and quarrying' |          57 | 'Oil & Energy'         | 0.0330148256063074 |  0.013478553881606 | 0.0174590734935562 |  0.0185141585154426 |    0.0226059392726059 |\n",
       "+--------------+------------------------+------------------------------+---------------+--------------------+------------------------+-------------+------------------------+--------------------+--------------------+--------------------+---------------------+-----------------------+\n",
       "| 'ae'         | 'United Arab Emirates' | 'Middle East & North Africa' | 'High income' | 'C'                | 'Manufacturing'        |          15 | 'Pharmaceuticals'      |  0.171366594360086 |  0.136986301369863 | 0.0906305434607321 |   0.048148148148148 |    0.0284233900814212 |\n",
       "+--------------+------------------------+------------------------------+---------------+--------------------+------------------------+-------------+------------------------+--------------------+--------------------+--------------------+---------------------+-----------------------+\n",
       "| 'ae'         | 'United Arab Emirates' | 'Middle East & North Africa' | 'High income' | 'C'                | 'Manufacturing'        |          23 | 'Food Production'      | 0.0633512828634779 |  0.038647342995169 | 0.0221366698748797 | 0.00598991172761653 |   0.00431699044094968 |\n",
       "+--------------+------------------------+------------------------------+---------------+--------------------+------------------------+-------------+------------------------+--------------------+--------------------+--------------------+---------------------+-----------------------+\n",
       "| 'ae'         | 'United Arab Emirates' | 'Middle East & North Africa' | 'High income' | 'C'                | 'Manufacturing'        |          52 | 'Aviation & Aerospace' | 0.0966074313408724 | 0.0567441860465116 | 0.0286727756429205 |  0.0150482680295287 |  0.000816104461371036 |\n",
       "+--------------+------------------------+------------------------------+---------------+--------------------+------------------------+-------------+------------------------+--------------------+--------------------+--------------------+---------------------+-----------------------+"
      ]
     },
     "execution_count": 6,
     "metadata": {},
     "output_type": "execute_result"
    }
   ],
   "source": [
    "data.head()"
   ]
  },
  {
   "cell_type": "code",
   "execution_count": 7,
   "id": "ca27edc2-0278-4d44-840a-86f7447f9bb0",
   "metadata": {},
   "outputs": [
    {
     "data": {
      "text/plain": [
       "7335"
      ]
     },
     "execution_count": 7,
     "metadata": {},
     "output_type": "execute_result"
    }
   ],
   "source": [
    "etl.nrows(data)"
   ]
  },
  {
   "cell_type": "code",
   "execution_count": 8,
   "id": "ae8dcee8-7198-4503-9228-1b691531b128",
   "metadata": {},
   "outputs": [
    {
     "data": {
      "text/plain": [
       "(3348, 0.456441717791411)"
      ]
     },
     "execution_count": 8,
     "metadata": {},
     "output_type": "execute_result"
    }
   ],
   "source": [
    "etl.valuecount(data, 'wb_income', 'High income')"
   ]
  },
  {
   "cell_type": "code",
   "execution_count": 9,
   "id": "a91296b3-68d2-489c-aa12-2f35c56dc5b6",
   "metadata": {},
   "outputs": [
    {
     "data": {
      "text/plain": [
       "(1636, 0.22304021813224267)"
      ]
     },
     "execution_count": 9,
     "metadata": {},
     "output_type": "execute_result"
    }
   ],
   "source": [
    "etl.valuecount(data, 'isic_section_name', 'Manufacturing')"
   ]
  },
  {
   "cell_type": "code",
   "execution_count": 10,
   "id": "05ca273e-c3f3-4d53-a50f-bfe7537f5ab3",
   "metadata": {},
   "outputs": [
    {
     "data": {
      "text/plain": [
       "Counter({'High income': 3348,\n",
       "         'Upper middle income': 1996,\n",
       "         'Lower middle income': 1537,\n",
       "         'Low income': 454})"
      ]
     },
     "execution_count": 10,
     "metadata": {},
     "output_type": "execute_result"
    }
   ],
   "source": [
    "etl.valuecounter(data, 'wb_income')"
   ]
  },
  {
   "cell_type": "code",
   "execution_count": 11,
   "id": "3a9aa883-a534-4acd-b71c-7b7c007e47eb",
   "metadata": {},
   "outputs": [],
   "source": [
    "region_isic_count = etl.valuecounts(data, 'wb_region', 'isic_section_name')"
   ]
  },
  {
   "cell_type": "code",
   "execution_count": 12,
   "id": "1842b97b-9af6-4630-9ee9-39431904f0bc",
   "metadata": {},
   "outputs": [
    {
     "data": {
      "text/html": [
       "<table class='petl'>\n",
       "<thead>\n",
       "<tr>\n",
       "<th>wb_region</th>\n",
       "<th>isic_section_name</th>\n",
       "<th>count</th>\n",
       "<th>frequency</th>\n",
       "</tr>\n",
       "</thead>\n",
       "<tbody>\n",
       "<tr>\n",
       "<td>Europe & Central Asia</td>\n",
       "<td>Professional scientific and technical activities</td>\n",
       "<td style='text-align: right'>799</td>\n",
       "<td style='text-align: right'>0.1089297886843899</td>\n",
       "</tr>\n",
       "<tr>\n",
       "<td>Europe & Central Asia</td>\n",
       "<td>Manufacturing</td>\n",
       "<td style='text-align: right'>575</td>\n",
       "<td style='text-align: right'>0.07839127471029311</td>\n",
       "</tr>\n",
       "<tr>\n",
       "<td>Europe & Central Asia</td>\n",
       "<td>Information and communication</td>\n",
       "<td style='text-align: right'>561</td>\n",
       "<td style='text-align: right'>0.07648261758691206</td>\n",
       "</tr>\n",
       "<tr>\n",
       "<td>Latin America & Caribbean </td>\n",
       "<td>Professional scientific and technical activities</td>\n",
       "<td style='text-align: right'>415</td>\n",
       "<td style='text-align: right'>0.05657805044308112</td>\n",
       "</tr>\n",
       "<tr>\n",
       "<td>Middle East & North Africa</td>\n",
       "<td>Professional scientific and technical activities</td>\n",
       "<td style='text-align: right'>333</td>\n",
       "<td style='text-align: right'>0.04539877300613497</td>\n",
       "</tr>\n",
       "<tr>\n",
       "<td>East Asia & Pacific</td>\n",
       "<td>Professional scientific and technical activities</td>\n",
       "<td style='text-align: right'>321</td>\n",
       "<td style='text-align: right'>0.04376278118609407</td>\n",
       "</tr>\n",
       "<tr>\n",
       "<td>Sub-Saharan Africa </td>\n",
       "<td>Professional scientific and technical activities</td>\n",
       "<td style='text-align: right'>311</td>\n",
       "<td style='text-align: right'>0.04239945466939332</td>\n",
       "</tr>\n",
       "<tr>\n",
       "<td>Europe & Central Asia</td>\n",
       "<td>Arts, entertainment and recreation </td>\n",
       "<td style='text-align: right'>296</td>\n",
       "<td style='text-align: right'>0.0403544648943422</td>\n",
       "</tr>\n",
       "<tr>\n",
       "<td>Latin America & Caribbean </td>\n",
       "<td>Manufacturing</td>\n",
       "<td style='text-align: right'>267</td>\n",
       "<td style='text-align: right'>0.03640081799591002</td>\n",
       "</tr>\n",
       "<tr>\n",
       "<td>Latin America & Caribbean </td>\n",
       "<td>Information and communication</td>\n",
       "<td style='text-align: right'>261</td>\n",
       "<td style='text-align: right'>0.03558282208588957</td>\n",
       "</tr>\n",
       "</tbody>\n",
       "</table>\n",
       "<p><strong>...</strong></p>"
      ]
     },
     "metadata": {},
     "output_type": "display_data"
    }
   ],
   "source": [
    "region_isic_count.display(limit=10)"
   ]
  },
  {
   "cell_type": "code",
   "execution_count": 14,
   "id": "167869ec-d9b7-4b68-8a54-55363330a8da",
   "metadata": {},
   "outputs": [],
   "source": [
    "etl.toxlsx(region_isic_count, './datasets/industries.xlxs', write_header=True)"
   ]
  },
  {
   "cell_type": "code",
   "execution_count": 15,
   "id": "184eea5a-3721-4106-a7cd-8904ac530889",
   "metadata": {},
   "outputs": [],
   "source": [
    "min_growth2019, max_growth2019 = etl.limits(data, 'growth_rate_2019')"
   ]
  },
  {
   "cell_type": "code",
   "execution_count": 16,
   "id": "def60dfc-e388-4949-87bc-1e41dd090335",
   "metadata": {},
   "outputs": [
    {
     "data": {
      "text/plain": [
       "-0.164179104477611"
      ]
     },
     "execution_count": 16,
     "metadata": {},
     "output_type": "execute_result"
    }
   ],
   "source": [
    "min_growth2019"
   ]
  },
  {
   "cell_type": "code",
   "execution_count": 17,
   "id": "3fc16684-06ec-4d7c-94ec-f7f51e251d24",
   "metadata": {},
   "outputs": [],
   "source": [
    "lookup_growth2019 = etl.dictlookup(data, 'growth_rate_2019')"
   ]
  },
  {
   "cell_type": "code",
   "execution_count": 18,
   "id": "2e1ef050-2016-45c2-b42a-c4e61dde6c65",
   "metadata": {},
   "outputs": [
    {
     "data": {
      "text/plain": [
       "[{'country_code': 'om',\n",
       "  'country_name': 'Oman',\n",
       "  'wb_region': 'Middle East & North Africa',\n",
       "  'wb_income': 'High income',\n",
       "  'isic_section_index': 'C',\n",
       "  'isic_section_name': 'Manufacturing',\n",
       "  'industry_id': 144,\n",
       "  'industry_name': 'Renewables & Environment',\n",
       "  'growth_rate_2015': 0.03,\n",
       "  'growth_rate_2016': 0.0454545454545454,\n",
       "  'growth_rate_2017': 0.0619469026548673,\n",
       "  'growth_rate_2018': 0.100840336134453,\n",
       "  'growth_rate_2019': -0.164179104477611}]"
      ]
     },
     "execution_count": 18,
     "metadata": {},
     "output_type": "execute_result"
    }
   ],
   "source": [
    "lookup_growth2019[min_growth2019]"
   ]
  },
  {
   "cell_type": "code",
   "execution_count": null,
   "id": "f0aac9ac-3e2a-4543-b1e1-dff86fedaf80",
   "metadata": {},
   "outputs": [],
   "source": []
  }
 ],
 "metadata": {
  "kernelspec": {
   "display_name": "Python 3 (ipykernel)",
   "language": "python",
   "name": "python3"
  },
  "language_info": {
   "codemirror_mode": {
    "name": "ipython",
    "version": 3
   },
   "file_extension": ".py",
   "mimetype": "text/x-python",
   "name": "python",
   "nbconvert_exporter": "python",
   "pygments_lexer": "ipython3",
   "version": "3.12.7"
  }
 },
 "nbformat": 4,
 "nbformat_minor": 5
}
